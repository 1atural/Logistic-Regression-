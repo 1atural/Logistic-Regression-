{
  "nbformat": 4,
  "nbformat_minor": 0,
  "metadata": {
    "colab": {
      "provenance": []
    },
    "kernelspec": {
      "name": "python3",
      "display_name": "Python 3"
    },
    "language_info": {
      "name": "python"
    }
  },
  "cells": [
    {
      "cell_type": "markdown",
      "source": [
        "## Importing libs"
      ],
      "metadata": {
        "id": "8HEDtnkGAt98"
      }
    },
    {
      "cell_type": "code",
      "execution_count": null,
      "metadata": {
        "id": "WbSQz9TFWJ37"
      },
      "outputs": [],
      "source": [
        "import pandas as pd\n",
        "import numpy as np\n",
        "import seaborn as sns\n",
        "import matplotlib.pyplot as plt\n",
        "%matplotlib inline\n",
        "from sklearn.preprocessing import Normalizer\n",
        "from sklearn.linear_model import LogisticRegression\n",
        "from sklearn import metrics"
      ]
    },
    {
      "cell_type": "markdown",
      "source": [
        "## Dataset"
      ],
      "metadata": {
        "id": "lakWn1VuyUJD"
      }
    },
    {
      "cell_type": "code",
      "source": [
        "data_frame = pd.read_csv(\"IRIS.csv\")"
      ],
      "metadata": {
        "id": "NuUML_QeYKV2"
      },
      "execution_count": null,
      "outputs": []
    },
    {
      "cell_type": "code",
      "source": [
        "data_frame.head()"
      ],
      "metadata": {
        "colab": {
          "base_uri": "https://localhost:8080/",
          "height": 206
        },
        "id": "byH6ckM3Y6Za",
        "outputId": "355598df-9d5e-408c-8369-ac30f0ea4779"
      },
      "execution_count": null,
      "outputs": [
        {
          "output_type": "execute_result",
          "data": {
            "text/plain": [
              "   sepal_length  sepal_width  petal_length  petal_width      species\n",
              "0           5.1          3.5           1.4          0.2  Iris-setosa\n",
              "1           4.9          3.0           1.4          0.2  Iris-setosa\n",
              "2           4.7          3.2           1.3          0.2  Iris-setosa\n",
              "3           4.6          3.1           1.5          0.2  Iris-setosa\n",
              "4           5.0          3.6           1.4          0.2  Iris-setosa"
            ],
            "text/html": [
              "\n",
              "  <div id=\"df-e088947d-2895-4248-89ad-7e5555cac344\">\n",
              "    <div class=\"colab-df-container\">\n",
              "      <div>\n",
              "<style scoped>\n",
              "    .dataframe tbody tr th:only-of-type {\n",
              "        vertical-align: middle;\n",
              "    }\n",
              "\n",
              "    .dataframe tbody tr th {\n",
              "        vertical-align: top;\n",
              "    }\n",
              "\n",
              "    .dataframe thead th {\n",
              "        text-align: right;\n",
              "    }\n",
              "</style>\n",
              "<table border=\"1\" class=\"dataframe\">\n",
              "  <thead>\n",
              "    <tr style=\"text-align: right;\">\n",
              "      <th></th>\n",
              "      <th>sepal_length</th>\n",
              "      <th>sepal_width</th>\n",
              "      <th>petal_length</th>\n",
              "      <th>petal_width</th>\n",
              "      <th>species</th>\n",
              "    </tr>\n",
              "  </thead>\n",
              "  <tbody>\n",
              "    <tr>\n",
              "      <th>0</th>\n",
              "      <td>5.1</td>\n",
              "      <td>3.5</td>\n",
              "      <td>1.4</td>\n",
              "      <td>0.2</td>\n",
              "      <td>Iris-setosa</td>\n",
              "    </tr>\n",
              "    <tr>\n",
              "      <th>1</th>\n",
              "      <td>4.9</td>\n",
              "      <td>3.0</td>\n",
              "      <td>1.4</td>\n",
              "      <td>0.2</td>\n",
              "      <td>Iris-setosa</td>\n",
              "    </tr>\n",
              "    <tr>\n",
              "      <th>2</th>\n",
              "      <td>4.7</td>\n",
              "      <td>3.2</td>\n",
              "      <td>1.3</td>\n",
              "      <td>0.2</td>\n",
              "      <td>Iris-setosa</td>\n",
              "    </tr>\n",
              "    <tr>\n",
              "      <th>3</th>\n",
              "      <td>4.6</td>\n",
              "      <td>3.1</td>\n",
              "      <td>1.5</td>\n",
              "      <td>0.2</td>\n",
              "      <td>Iris-setosa</td>\n",
              "    </tr>\n",
              "    <tr>\n",
              "      <th>4</th>\n",
              "      <td>5.0</td>\n",
              "      <td>3.6</td>\n",
              "      <td>1.4</td>\n",
              "      <td>0.2</td>\n",
              "      <td>Iris-setosa</td>\n",
              "    </tr>\n",
              "  </tbody>\n",
              "</table>\n",
              "</div>\n",
              "      <button class=\"colab-df-convert\" onclick=\"convertToInteractive('df-e088947d-2895-4248-89ad-7e5555cac344')\"\n",
              "              title=\"Convert this dataframe to an interactive table.\"\n",
              "              style=\"display:none;\">\n",
              "        \n",
              "  <svg xmlns=\"http://www.w3.org/2000/svg\" height=\"24px\"viewBox=\"0 0 24 24\"\n",
              "       width=\"24px\">\n",
              "    <path d=\"M0 0h24v24H0V0z\" fill=\"none\"/>\n",
              "    <path d=\"M18.56 5.44l.94 2.06.94-2.06 2.06-.94-2.06-.94-.94-2.06-.94 2.06-2.06.94zm-11 1L8.5 8.5l.94-2.06 2.06-.94-2.06-.94L8.5 2.5l-.94 2.06-2.06.94zm10 10l.94 2.06.94-2.06 2.06-.94-2.06-.94-.94-2.06-.94 2.06-2.06.94z\"/><path d=\"M17.41 7.96l-1.37-1.37c-.4-.4-.92-.59-1.43-.59-.52 0-1.04.2-1.43.59L10.3 9.45l-7.72 7.72c-.78.78-.78 2.05 0 2.83L4 21.41c.39.39.9.59 1.41.59.51 0 1.02-.2 1.41-.59l7.78-7.78 2.81-2.81c.8-.78.8-2.07 0-2.86zM5.41 20L4 18.59l7.72-7.72 1.47 1.35L5.41 20z\"/>\n",
              "  </svg>\n",
              "      </button>\n",
              "      \n",
              "  <style>\n",
              "    .colab-df-container {\n",
              "      display:flex;\n",
              "      flex-wrap:wrap;\n",
              "      gap: 12px;\n",
              "    }\n",
              "\n",
              "    .colab-df-convert {\n",
              "      background-color: #E8F0FE;\n",
              "      border: none;\n",
              "      border-radius: 50%;\n",
              "      cursor: pointer;\n",
              "      display: none;\n",
              "      fill: #1967D2;\n",
              "      height: 32px;\n",
              "      padding: 0 0 0 0;\n",
              "      width: 32px;\n",
              "    }\n",
              "\n",
              "    .colab-df-convert:hover {\n",
              "      background-color: #E2EBFA;\n",
              "      box-shadow: 0px 1px 2px rgba(60, 64, 67, 0.3), 0px 1px 3px 1px rgba(60, 64, 67, 0.15);\n",
              "      fill: #174EA6;\n",
              "    }\n",
              "\n",
              "    [theme=dark] .colab-df-convert {\n",
              "      background-color: #3B4455;\n",
              "      fill: #D2E3FC;\n",
              "    }\n",
              "\n",
              "    [theme=dark] .colab-df-convert:hover {\n",
              "      background-color: #434B5C;\n",
              "      box-shadow: 0px 1px 3px 1px rgba(0, 0, 0, 0.15);\n",
              "      filter: drop-shadow(0px 1px 2px rgba(0, 0, 0, 0.3));\n",
              "      fill: #FFFFFF;\n",
              "    }\n",
              "  </style>\n",
              "\n",
              "      <script>\n",
              "        const buttonEl =\n",
              "          document.querySelector('#df-e088947d-2895-4248-89ad-7e5555cac344 button.colab-df-convert');\n",
              "        buttonEl.style.display =\n",
              "          google.colab.kernel.accessAllowed ? 'block' : 'none';\n",
              "\n",
              "        async function convertToInteractive(key) {\n",
              "          const element = document.querySelector('#df-e088947d-2895-4248-89ad-7e5555cac344');\n",
              "          const dataTable =\n",
              "            await google.colab.kernel.invokeFunction('convertToInteractive',\n",
              "                                                     [key], {});\n",
              "          if (!dataTable) return;\n",
              "\n",
              "          const docLinkHtml = 'Like what you see? Visit the ' +\n",
              "            '<a target=\"_blank\" href=https://colab.research.google.com/notebooks/data_table.ipynb>data table notebook</a>'\n",
              "            + ' to learn more about interactive tables.';\n",
              "          element.innerHTML = '';\n",
              "          dataTable['output_type'] = 'display_data';\n",
              "          await google.colab.output.renderOutput(dataTable, element);\n",
              "          const docLink = document.createElement('div');\n",
              "          docLink.innerHTML = docLinkHtml;\n",
              "          element.appendChild(docLink);\n",
              "        }\n",
              "      </script>\n",
              "    </div>\n",
              "  </div>\n",
              "  "
            ]
          },
          "metadata": {},
          "execution_count": 210
        }
      ]
    },
    {
      "cell_type": "code",
      "source": [
        "# Show the unique values of the 'species' column\n",
        "unique_values = data_frame['species'].unique()\n",
        "print(unique_values)"
      ],
      "metadata": {
        "colab": {
          "base_uri": "https://localhost:8080/"
        },
        "id": "ZhfBiSMLtoAf",
        "outputId": "d950c0b3-e249-49b7-d136-b0cd21d54b77"
      },
      "execution_count": null,
      "outputs": [
        {
          "output_type": "stream",
          "name": "stdout",
          "text": [
            "['Iris-setosa' 'Iris-versicolor' 'Iris-virginica']\n"
          ]
        }
      ]
    },
    {
      "cell_type": "code",
      "source": [
        "# Delete rows where species = \"iris-setosa\"\n",
        "#IRIS dataset has three species ; i had to delete one to fit our use case\n",
        "df = data_frame[data_frame['species'] != 'Iris-setosa']"
      ],
      "metadata": {
        "id": "GOKYHKLRtEq1"
      },
      "execution_count": null,
      "outputs": []
    },
    {
      "cell_type": "code",
      "source": [
        "#Correlation Matrix\n",
        "corr = df.corr()\n",
        "sns.heatmap(corr, cmap=\"RdBu\")"
      ],
      "metadata": {
        "colab": {
          "base_uri": "https://localhost:8080/",
          "height": 507
        },
        "id": "v-G-Yg3_aySv",
        "outputId": "d681e0b3-823f-42c4-e18b-3e54d78cb0bb"
      },
      "execution_count": null,
      "outputs": [
        {
          "output_type": "stream",
          "name": "stderr",
          "text": [
            "<ipython-input-213-a7bd60d51ad8>:2: FutureWarning: The default value of numeric_only in DataFrame.corr is deprecated. In a future version, it will default to False. Select only valid columns or specify the value of numeric_only to silence this warning.\n",
            "  corr = df.corr()\n"
          ]
        },
        {
          "output_type": "execute_result",
          "data": {
            "text/plain": [
              "<Axes: >"
            ]
          },
          "metadata": {},
          "execution_count": 213
        },
        {
          "output_type": "display_data",
          "data": {
            "text/plain": [
              "<Figure size 640x480 with 2 Axes>"
            ],
            "image/png": "[encoded data removed]"
          },
          "metadata": {}
        }
      ]
    },
    {
      "cell_type": "code",
      "source": [
        "#Changing species type into int ; iris-versicolor is 1 and iris-verginica is 0\n",
        "df[\"species\"] = (df[\"species\"] == 'Iris-versicolor').astype(int)"
      ],
      "metadata": {
        "colab": {
          "base_uri": "https://localhost:8080/"
        },
        "id": "Zm8TEqJ0umIl",
        "outputId": "612d5f44-e474-4876-8297-2a9f03950e33"
      },
      "execution_count": null,
      "outputs": [
        {
          "output_type": "stream",
          "name": "stderr",
          "text": [
            "<ipython-input-214-49f1cfd7c82f>:2: SettingWithCopyWarning: \n",
            "A value is trying to be set on a copy of a slice from a DataFrame.\n",
            "Try using .loc[row_indexer,col_indexer] = value instead\n",
            "\n",
            "See the caveats in the documentation: https://pandas.pydata.org/pandas-docs/stable/user_guide/indexing.html#returning-a-view-versus-a-copy\n",
            "  df[\"species\"] = (df[\"species\"] == 'Iris-versicolor').astype(int)\n"
          ]
        }
      ]
    },
    {
      "cell_type": "code",
      "source": [
        "df.head()"
      ],
      "metadata": {
        "colab": {
          "base_uri": "https://localhost:8080/",
          "height": 206
        },
        "id": "07Mvnjkru0aS",
        "outputId": "5b6ca43e-60f9-4a05-c0e9-a66379eb5c64"
      },
      "execution_count": null,
      "outputs": [
        {
          "output_type": "execute_result",
          "data": {
            "text/plain": [
              "    sepal_length  sepal_width  petal_length  petal_width  species\n",
              "50           7.0          3.2           4.7          1.4        1\n",
              "51           6.4          3.2           4.5          1.5        1\n",
              "52           6.9          3.1           4.9          1.5        1\n",
              "53           5.5          2.3           4.0          1.3        1\n",
              "54           6.5          2.8           4.6          1.5        1"
            ],
            "text/html": [
              "\n",
              "  <div id=\"df-c9c5f673-0b18-4268-8327-7fef8e02ba18\">\n",
              "    <div class=\"colab-df-container\">\n",
              "      <div>\n",
              "<style scoped>\n",
              "    .dataframe tbody tr th:only-of-type {\n",
              "        vertical-align: middle;\n",
              "    }\n",
              "\n",
              "    .dataframe tbody tr th {\n",
              "        vertical-align: top;\n",
              "    }\n",
              "\n",
              "    .dataframe thead th {\n",
              "        text-align: right;\n",
              "    }\n",
              "</style>\n",
              "<table border=\"1\" class=\"dataframe\">\n",
              "  <thead>\n",
              "    <tr style=\"text-align: right;\">\n",
              "      <th></th>\n",
              "      <th>sepal_length</th>\n",
              "      <th>sepal_width</th>\n",
              "      <th>petal_length</th>\n",
              "      <th>petal_width</th>\n",
              "      <th>species</th>\n",
              "    </tr>\n",
              "  </thead>\n",
              "  <tbody>\n",
              "    <tr>\n",
              "      <th>50</th>\n",
              "      <td>7.0</td>\n",
              "      <td>3.2</td>\n",
              "      <td>4.7</td>\n",
              "      <td>1.4</td>\n",
              "      <td>1</td>\n",
              "    </tr>\n",
              "    <tr>\n",
              "      <th>51</th>\n",
              "      <td>6.4</td>\n",
              "      <td>3.2</td>\n",
              "      <td>4.5</td>\n",
              "      <td>1.5</td>\n",
              "      <td>1</td>\n",
              "    </tr>\n",
              "    <tr>\n",
              "      <th>52</th>\n",
              "      <td>6.9</td>\n",
              "      <td>3.1</td>\n",
              "      <td>4.9</td>\n",
              "      <td>1.5</td>\n",
              "      <td>1</td>\n",
              "    </tr>\n",
              "    <tr>\n",
              "      <th>53</th>\n",
              "      <td>5.5</td>\n",
              "      <td>2.3</td>\n",
              "      <td>4.0</td>\n",
              "      <td>1.3</td>\n",
              "      <td>1</td>\n",
              "    </tr>\n",
              "    <tr>\n",
              "      <th>54</th>\n",
              "      <td>6.5</td>\n",
              "      <td>2.8</td>\n",
              "      <td>4.6</td>\n",
              "      <td>1.5</td>\n",
              "      <td>1</td>\n",
              "    </tr>\n",
              "  </tbody>\n",
              "</table>\n",
              "</div>\n",
              "      <button class=\"colab-df-convert\" onclick=\"convertToInteractive('df-c9c5f673-0b18-4268-8327-7fef8e02ba18')\"\n",
              "              title=\"Convert this dataframe to an interactive table.\"\n",
              "              style=\"display:none;\">\n",
              "        \n",
              "  <svg xmlns=\"http://www.w3.org/2000/svg\" height=\"24px\"viewBox=\"0 0 24 24\"\n",
              "       width=\"24px\">\n",
              "    <path d=\"M0 0h24v24H0V0z\" fill=\"none\"/>\n",
              "    <path d=\"M18.56 5.44l.94 2.06.94-2.06 2.06-.94-2.06-.94-.94-2.06-.94 2.06-2.06.94zm-11 1L8.5 8.5l.94-2.06 2.06-.94-2.06-.94L8.5 2.5l-.94 2.06-2.06.94zm10 10l.94 2.06.94-2.06 2.06-.94-2.06-.94-.94-2.06-.94 2.06-2.06.94z\"/><path d=\"M17.41 7.96l-1.37-1.37c-.4-.4-.92-.59-1.43-.59-.52 0-1.04.2-1.43.59L10.3 9.45l-7.72 7.72c-.78.78-.78 2.05 0 2.83L4 21.41c.39.39.9.59 1.41.59.51 0 1.02-.2 1.41-.59l7.78-7.78 2.81-2.81c.8-.78.8-2.07 0-2.86zM5.41 20L4 18.59l7.72-7.72 1.47 1.35L5.41 20z\"/>\n",
              "  </svg>\n",
              "      </button>\n",
              "      \n",
              "  <style>\n",
              "    .colab-df-container {\n",
              "      display:flex;\n",
              "      flex-wrap:wrap;\n",
              "      gap: 12px;\n",
              "    }\n",
              "\n",
              "    .colab-df-convert {\n",
              "      background-color: #E8F0FE;\n",
              "      border: none;\n",
              "      border-radius: 50%;\n",
              "      cursor: pointer;\n",
              "      display: none;\n",
              "      fill: #1967D2;\n",
              "      height: 32px;\n",
              "      padding: 0 0 0 0;\n",
              "      width: 32px;\n",
              "    }\n",
              "\n",
              "    .colab-df-convert:hover {\n",
              "      background-color: #E2EBFA;\n",
              "      box-shadow: 0px 1px 2px rgba(60, 64, 67, 0.3), 0px 1px 3px 1px rgba(60, 64, 67, 0.15);\n",
              "      fill: #174EA6;\n",
              "    }\n",
              "\n",
              "    [theme=dark] .colab-df-convert {\n",
              "      background-color: #3B4455;\n",
              "      fill: #D2E3FC;\n",
              "    }\n",
              "\n",
              "    [theme=dark] .colab-df-convert:hover {\n",
              "      background-color: #434B5C;\n",
              "      box-shadow: 0px 1px 3px 1px rgba(0, 0, 0, 0.15);\n",
              "      filter: drop-shadow(0px 1px 2px rgba(0, 0, 0, 0.3));\n",
              "      fill: #FFFFFF;\n",
              "    }\n",
              "  </style>\n",
              "\n",
              "      <script>\n",
              "        const buttonEl =\n",
              "          document.querySelector('#df-c9c5f673-0b18-4268-8327-7fef8e02ba18 button.colab-df-convert');\n",
              "        buttonEl.style.display =\n",
              "          google.colab.kernel.accessAllowed ? 'block' : 'none';\n",
              "\n",
              "        async function convertToInteractive(key) {\n",
              "          const element = document.querySelector('#df-c9c5f673-0b18-4268-8327-7fef8e02ba18');\n",
              "          const dataTable =\n",
              "            await google.colab.kernel.invokeFunction('convertToInteractive',\n",
              "                                                     [key], {});\n",
              "          if (!dataTable) return;\n",
              "\n",
              "          const docLinkHtml = 'Like what you see? Visit the ' +\n",
              "            '<a target=\"_blank\" href=https://colab.research.google.com/notebooks/data_table.ipynb>data table notebook</a>'\n",
              "            + ' to learn more about interactive tables.';\n",
              "          element.innerHTML = '';\n",
              "          dataTable['output_type'] = 'display_data';\n",
              "          await google.colab.output.renderOutput(dataTable, element);\n",
              "          const docLink = document.createElement('div');\n",
              "          docLink.innerHTML = docLinkHtml;\n",
              "          element.appendChild(docLink);\n",
              "        }\n",
              "      </script>\n",
              "    </div>\n",
              "  </div>\n",
              "  "
            ]
          },
          "metadata": {},
          "execution_count": 215
        }
      ]
    },
    {
      "cell_type": "code",
      "source": [
        "df.plot.scatter(x='sepal_length',y='petal_length', c='species', cmap='winter')\n",
        "plt.show()"
      ],
      "metadata": {
        "colab": {
          "base_uri": "https://localhost:8080/",
          "height": 455
        },
        "id": "VrTSMt10Zr5y",
        "outputId": "9c1530ab-2a56-4e1e-e6ec-4cd3e05a5169"
      },
      "execution_count": null,
      "outputs": [
        {
          "output_type": "display_data",
          "data": {
            "text/plain": [
              "<Figure size 640x480 with 2 Axes>"
            ],
            "image/png": "[encoded data removed]"
          },
          "metadata": {}
        }
      ]
    },
    {
      "cell_type": "code",
      "source": [
        "df[\"species\"].value_counts()"
      ],
      "metadata": {
        "colab": {
          "base_uri": "https://localhost:8080/"
        },
        "id": "QlqVxiewZ9tm",
        "outputId": "1cfdce17-d735-4d01-aecc-4a6ce49d1670"
      },
      "execution_count": null,
      "outputs": [
        {
          "output_type": "execute_result",
          "data": {
            "text/plain": [
              "1    50\n",
              "0    50\n",
              "Name: species, dtype: int64"
            ]
          },
          "metadata": {},
          "execution_count": 217
        }
      ]
    },
    {
      "cell_type": "code",
      "source": [
        "X = df[['sepal_length', 'petal_length']].values\n",
        "y = df[['species']].values"
      ],
      "metadata": {
        "id": "FtjI-N_G0ARR"
      },
      "execution_count": null,
      "outputs": []
    },
    {
      "cell_type": "markdown",
      "source": [
        "## Logistic Regression from scratch"
      ],
      "metadata": {
        "id": "sNqnPr8VyX4C"
      }
    },
    {
      "cell_type": "markdown",
      "source": [
        "### Model"
      ],
      "metadata": {
        "id": "c_Y3QSD9zOqi"
      }
    },
    {
      "cell_type": "code",
      "source": [
        "# Sigmoide function\n",
        "def sigmoid(x):\n",
        "    return 1 / (1 + np.exp(-x))"
      ],
      "metadata": {
        "id": "emLUU36AycSq"
      },
      "execution_count": null,
      "outputs": []
    },
    {
      "cell_type": "code",
      "source": [
        "def initialisation(X):\n",
        "    W = np.random.randn(X.shape[1], 1)\n",
        "    b = np.random.randn(1)\n",
        "    return (W, b)"
      ],
      "metadata": {
        "id": "qOE_NG2szKKN"
      },
      "execution_count": null,
      "outputs": []
    },
    {
      "cell_type": "code",
      "source": [
        "# Model\n",
        "def modele(X, W, b):\n",
        "    Z = X.dot(W) + b\n",
        "    A = sigmoid(Z)\n",
        "    return A"
      ],
      "metadata": {
        "id": "0WUdcsk2zMWT"
      },
      "execution_count": null,
      "outputs": []
    },
    {
      "cell_type": "markdown",
      "source": [
        "### Cost Function"
      ],
      "metadata": {
        "id": "ziUR2StizSF1"
      }
    },
    {
      "cell_type": "code",
      "source": [
        "def log_loss(y, A):\n",
        "    return 1/len(y) * np.sum(-y * np.log(A) - (1 - y) * np.log(1 - A))"
      ],
      "metadata": {
        "id": "6-FMMQ87zVnE"
      },
      "execution_count": null,
      "outputs": []
    },
    {
      "cell_type": "markdown",
      "source": [
        "### Gradient Descent"
      ],
      "metadata": {
        "id": "iqK5pwsNzXvg"
      }
    },
    {
      "cell_type": "code",
      "source": [
        "def gradients(X, A, y):\n",
        "    dW = 1/len(y) * np.dot(X.T, A - y)\n",
        "    db = 1/len(y) * np.sum(A - y)\n",
        "    return (dW, db)"
      ],
      "metadata": {
        "id": "ssVeCDrCza2D"
      },
      "execution_count": null,
      "outputs": []
    },
    {
      "cell_type": "code",
      "source": [
        "def optimisation(X, W, b, A, y, learning_rate):\n",
        "    dW, db = gradients(X, A, y)\n",
        "    W = W - learning_rate * dW\n",
        "    b = b - learning_rate * db\n",
        "    return (W, b)"
      ],
      "metadata": {
        "id": "9VbZPmFozdHS"
      },
      "execution_count": null,
      "outputs": []
    },
    {
      "cell_type": "markdown",
      "source": [
        "### Prediction"
      ],
      "metadata": {
        "id": "yovXD-4UzgYV"
      }
    },
    {
      "cell_type": "code",
      "source": [
        "def predict(X, W, b):\n",
        "    A = modele(X, W, b)\n",
        "    print(A)\n",
        "    return A >= 0.5"
      ],
      "metadata": {
        "id": "dYKRyX0azhyW"
      },
      "execution_count": null,
      "outputs": []
    },
    {
      "cell_type": "markdown",
      "source": [
        "### Final Model"
      ],
      "metadata": {
        "id": "w5ujlNhlzlob"
      }
    },
    {
      "cell_type": "code",
      "source": [
        "def logistic_regression(X, y, learning_rate=0.1, n_iter=10000):\n",
        "  # Initialisation\n",
        "    W, b = initialisation(X)\n",
        "    loss_history = []\n",
        "  # Entrainement\n",
        "    for i in range(n_iter):\n",
        "        A = modele(X, W, b)\n",
        "        loss_history.append(log_loss(y, A))\n",
        "        W, b = optimisation(X, W, b, A, y, learning_rate=0.1)\n",
        "\n",
        "  # Prediction\n",
        "    plt.plot(loss_history)\n",
        "    plt.xlabel('n_iteration')\n",
        "    plt.ylabel('Log_loss')\n",
        "    plt.title('Errors Evolution')\n",
        "    return W,b"
      ],
      "metadata": {
        "id": "mIiGLzI4znOt"
      },
      "execution_count": null,
      "outputs": []
    },
    {
      "cell_type": "code",
      "source": [
        "W,b=logistic_regression(X, y)"
      ],
      "metadata": {
        "colab": {
          "base_uri": "https://localhost:8080/",
          "height": 472
        },
        "id": "4Ijb5Valzzgj",
        "outputId": "22550b29-f6c1-47d9-c339-d9152fe95e55"
      },
      "execution_count": null,
      "outputs": [
        {
          "output_type": "display_data",
          "data": {
            "text/plain": [
              "<Figure size 640x480 with 1 Axes>"
            ],
            "image/png": "[encoded data removed]"
          },
          "metadata": {}
        }
      ]
    },
    {
      "cell_type": "markdown",
      "source": [
        "### Model Evaluation & Visualisation"
      ],
      "metadata": {
        "id": "jhxA_FeP0nlO"
      }
    },
    {
      "cell_type": "code",
      "source": [
        "from sklearn.metrics import accuracy_score\n",
        "y_pred = predict(X, W, b)\n",
        "print(\"Accuracy=\",accuracy_score(y, y_pred))"
      ],
      "metadata": {
        "colab": {
          "base_uri": "https://localhost:8080/"
        },
        "id": "-LGjwyhK0sh0",
        "outputId": "aa76e9e7-252a-4ec4-8ec8-5dee6a33cce1"
      },
      "execution_count": null,
      "outputs": [
        {
          "output_type": "stream",
          "name": "stdout",
          "text": [
            "[[9.92930369e-01]\n",
            " [9.74990541e-01]\n",
            " [9.51809349e-01]\n",
            " [9.62274926e-01]\n",
            " [9.66989020e-01]\n",
            " [6.03445559e-01]\n",
            " [8.45733296e-01]\n",
            " [9.96675465e-01]\n",
            " [9.78972654e-01]\n",
            " [9.30741515e-01]\n",
            " [9.90697342e-01]\n",
            " [9.73246909e-01]\n",
            " [9.96149293e-01]\n",
            " [6.84570204e-01]\n",
            " [9.98769308e-01]\n",
            " [9.96988595e-01]\n",
            " [4.89129081e-01]\n",
            " [9.79763326e-01]\n",
            " [9.39146812e-01]\n",
            " [9.88472986e-01]\n",
            " [2.88851052e-01]\n",
            " [9.97573736e-01]\n",
            " [5.50626317e-01]\n",
            " [6.84570204e-01]\n",
            " [9.94299549e-01]\n",
            " [9.95222265e-01]\n",
            " [9.63350815e-01]\n",
            " [7.87073386e-01]\n",
            " [8.59342724e-01]\n",
            " [9.99633608e-01]\n",
            " [9.91313793e-01]\n",
            " [9.95874584e-01]\n",
            " [9.95404786e-01]\n",
            " [6.38573018e-02]\n",
            " [2.74849295e-01]\n",
            " [8.59342724e-01]\n",
            " [9.72208855e-01]\n",
            " [9.81090502e-01]\n",
            " [9.50412085e-01]\n",
            " [9.62274926e-01]\n",
            " [5.60289290e-01]\n",
            " [8.21128923e-01]\n",
            " [9.90329659e-01]\n",
            " [9.97905677e-01]\n",
            " [9.00607130e-01]\n",
            " [9.35070615e-01]\n",
            " [9.35070615e-01]\n",
            " [9.85724430e-01]\n",
            " [9.99860491e-01]\n",
            " [9.68215672e-01]\n",
            " [3.22993363e-04]\n",
            " [2.62936314e-02]\n",
            " [2.70740622e-02]\n",
            " [6.42625268e-03]\n",
            " [3.63838564e-03]\n",
            " [1.48747744e-03]\n",
            " [3.60260606e-02]\n",
            " [3.49923758e-03]\n",
            " [9.14007907e-03]\n",
            " [9.78842273e-03]\n",
            " [4.08915155e-01]\n",
            " [8.86602262e-02]\n",
            " [1.21843023e-01]\n",
            " [3.46913910e-02]\n",
            " [2.62936314e-02]\n",
            " [8.86602262e-02]\n",
            " [3.34044540e-02]\n",
            " [1.11809330e-03]\n",
            " [2.50117087e-04]\n",
            " [1.26092670e-01]\n",
            " [4.69726387e-02]\n",
            " [4.56455267e-02]\n",
            " [1.11809330e-03]\n",
            " [5.50626317e-01]\n",
            " [1.91382161e-02]\n",
            " [2.04811096e-02]\n",
            " [6.19877505e-01]\n",
            " [3.26630544e-01]\n",
            " [1.01751082e-02]\n",
            " [8.55486514e-02]\n",
            " [2.43623522e-02]\n",
            " [2.60620738e-02]\n",
            " [1.01751082e-02]\n",
            " [2.14987809e-01]\n",
            " [2.55388410e-03]\n",
            " [9.11185555e-02]\n",
            " [6.42625268e-03]\n",
            " [2.12811247e-02]\n",
            " [3.92303998e-01]\n",
            " [3.18082247e-01]\n",
            " [3.96356178e-02]\n",
            " [8.15308576e-01]\n",
            " [2.62936314e-02]\n",
            " [6.88343070e-03]\n",
            " [1.91382161e-02]\n",
            " [4.52408115e-01]\n",
            " [3.66802653e-01]\n",
            " [2.46454569e-01]\n",
            " [1.78817652e-02]\n",
            " [4.11523957e-02]]\n",
            "Accuracy= 0.93\n"
          ]
        }
      ]
    },
    {
      "cell_type": "code",
      "source": [
        "df[\"species\"].values"
      ],
      "metadata": {
        "colab": {
          "base_uri": "https://localhost:8080/"
        },
        "id": "7MwyaF4020qR",
        "outputId": "febf0a7f-bee6-4e7b-a296-2bb176469f78"
      },
      "execution_count": null,
      "outputs": [
        {
          "output_type": "execute_result",
          "data": {
            "text/plain": [
              "array([1, 1, 1, 1, 1, 1, 1, 1, 1, 1, 1, 1, 1, 1, 1, 1, 1, 1, 1, 1, 1, 1,\n",
              "       1, 1, 1, 1, 1, 1, 1, 1, 1, 1, 1, 1, 1, 1, 1, 1, 1, 1, 1, 1, 1, 1,\n",
              "       1, 1, 1, 1, 1, 1, 0, 0, 0, 0, 0, 0, 0, 0, 0, 0, 0, 0, 0, 0, 0, 0,\n",
              "       0, 0, 0, 0, 0, 0, 0, 0, 0, 0, 0, 0, 0, 0, 0, 0, 0, 0, 0, 0, 0, 0,\n",
              "       0, 0, 0, 0, 0, 0, 0, 0, 0, 0, 0, 0])"
            ]
          },
          "metadata": {},
          "execution_count": 229
        }
      ]
    },
    {
      "cell_type": "code",
      "source": [
        "# Visualise data\n",
        "fig, ax = plt.subplots(figsize=(6, 6))\n",
        "ax.scatter(X[:,0], X[:, 1], c=y, cmap='winter')\n",
        "\n",
        "# Get the minimum and maximum values of x and y\n",
        "x_min, x_max = min(X[:,0]), max(X[:,0])\n",
        "y_min, y_max = min(X[:, 1]), max(X[:, 1])\n",
        "\n",
        "# Set the limits of the x and y axes based on the data range\n",
        "plt.xlim(x_min-.5, x_max+.5)\n",
        "plt.ylim(y_min-.5, y_max+.5)\n",
        "\n",
        "# Decision Line\n",
        "x1 = np.linspace(0, 8, 200)\n",
        "x2 = ( - W[0] * x1 - b) / W[1]\n",
        "ax.plot(x1, x2, c='orange', lw=3)\n",
        "\n",
        "# Predict classes of new inputs\n",
        "new_1=np.array([6,5])\n",
        "new_2=np.array([6,3])\n",
        "new_3=np.array([7,6])\n",
        "ax.scatter(new_1[0], new_1[1], c='r')\n",
        "ax.scatter(new_2[0], new_2[1], c='r')\n",
        "ax.scatter(new_3[0], new_3[1], c='r')\n",
        "print(predict(new_1, W, b))\n",
        "print(predict(new_2, W, b))\n",
        "print(predict(new_3, W, b))\n",
        "\n",
        "plt.show()"
      ],
      "metadata": {
        "colab": {
          "base_uri": "https://localhost:8080/",
          "height": 626
        },
        "id": "fnDFIEsw0ubc",
        "outputId": "43467127-2e60-4901-9ff1-2d970561b96e"
      },
      "execution_count": null,
      "outputs": [
        {
          "output_type": "stream",
          "name": "stdout",
          "text": [
            "[0.12609267]\n",
            "[False]\n",
            "[0.99999784]\n",
            "[ True]\n",
            "[0.00820946]\n",
            "[False]\n"
          ]
        },
        {
          "output_type": "display_data",
          "data": {
            "text/plain": [
              "<Figure size 600x600 with 1 Axes>"
            ],
            "image/png": "[encoded data removed]"
          },
          "metadata": {}
        }
      ]
    },
    {
      "cell_type": "code",
      "source": [
        "#Display confusion matrix\n",
        "from sklearn.metrics import confusion_matrix\n",
        "y_pred = predict(X, W, b)\n",
        "cm = confusion_matrix(y, y_pred)\n",
        "print(cm)"
      ],
      "metadata": {
        "colab": {
          "base_uri": "https://localhost:8080/"
        },
        "id": "WhPVBa058veH",
        "outputId": "3f36457d-039d-4492-8943-a052c07dcb80"
      },
      "execution_count": null,
      "outputs": [
        {
          "output_type": "stream",
          "name": "stdout",
          "text": [
            "[[9.92930369e-01]\n",
            " [9.74990541e-01]\n",
            " [9.51809349e-01]\n",
            " [9.62274926e-01]\n",
            " [9.66989020e-01]\n",
            " [6.03445559e-01]\n",
            " [8.45733296e-01]\n",
            " [9.96675465e-01]\n",
            " [9.78972654e-01]\n",
            " [9.30741515e-01]\n",
            " [9.90697342e-01]\n",
            " [9.73246909e-01]\n",
            " [9.96149293e-01]\n",
            " [6.84570204e-01]\n",
            " [9.98769308e-01]\n",
            " [9.96988595e-01]\n",
            " [4.89129081e-01]\n",
            " [9.79763326e-01]\n",
            " [9.39146812e-01]\n",
            " [9.88472986e-01]\n",
            " [2.88851052e-01]\n",
            " [9.97573736e-01]\n",
            " [5.50626317e-01]\n",
            " [6.84570204e-01]\n",
            " [9.94299549e-01]\n",
            " [9.95222265e-01]\n",
            " [9.63350815e-01]\n",
            " [7.87073386e-01]\n",
            " [8.59342724e-01]\n",
            " [9.99633608e-01]\n",
            " [9.91313793e-01]\n",
            " [9.95874584e-01]\n",
            " [9.95404786e-01]\n",
            " [6.38573018e-02]\n",
            " [2.74849295e-01]\n",
            " [8.59342724e-01]\n",
            " [9.72208855e-01]\n",
            " [9.81090502e-01]\n",
            " [9.50412085e-01]\n",
            " [9.62274926e-01]\n",
            " [5.60289290e-01]\n",
            " [8.21128923e-01]\n",
            " [9.90329659e-01]\n",
            " [9.97905677e-01]\n",
            " [9.00607130e-01]\n",
            " [9.35070615e-01]\n",
            " [9.35070615e-01]\n",
            " [9.85724430e-01]\n",
            " [9.99860491e-01]\n",
            " [9.68215672e-01]\n",
            " [3.22993363e-04]\n",
            " [2.62936314e-02]\n",
            " [2.70740622e-02]\n",
            " [6.42625268e-03]\n",
            " [3.63838564e-03]\n",
            " [1.48747744e-03]\n",
            " [3.60260606e-02]\n",
            " [3.49923758e-03]\n",
            " [9.14007907e-03]\n",
            " [9.78842273e-03]\n",
            " [4.08915155e-01]\n",
            " [8.86602262e-02]\n",
            " [1.21843023e-01]\n",
            " [3.46913910e-02]\n",
            " [2.62936314e-02]\n",
            " [8.86602262e-02]\n",
            " [3.34044540e-02]\n",
            " [1.11809330e-03]\n",
            " [2.50117087e-04]\n",
            " [1.26092670e-01]\n",
            " [4.69726387e-02]\n",
            " [4.56455267e-02]\n",
            " [1.11809330e-03]\n",
            " [5.50626317e-01]\n",
            " [1.91382161e-02]\n",
            " [2.04811096e-02]\n",
            " [6.19877505e-01]\n",
            " [3.26630544e-01]\n",
            " [1.01751082e-02]\n",
            " [8.55486514e-02]\n",
            " [2.43623522e-02]\n",
            " [2.60620738e-02]\n",
            " [1.01751082e-02]\n",
            " [2.14987809e-01]\n",
            " [2.55388410e-03]\n",
            " [9.11185555e-02]\n",
            " [6.42625268e-03]\n",
            " [2.12811247e-02]\n",
            " [3.92303998e-01]\n",
            " [3.18082247e-01]\n",
            " [3.96356178e-02]\n",
            " [8.15308576e-01]\n",
            " [2.62936314e-02]\n",
            " [6.88343070e-03]\n",
            " [1.91382161e-02]\n",
            " [4.52408115e-01]\n",
            " [3.66802653e-01]\n",
            " [2.46454569e-01]\n",
            " [1.78817652e-02]\n",
            " [4.11523957e-02]]\n",
            "[[47  3]\n",
            " [ 4 46]]\n"
          ]
        }
      ]
    },
    {
      "cell_type": "code",
      "source": [
        "# Plot confusion matrix\n",
        "ax = plt.axes()\n",
        "df_cm = cm\n",
        "sns.heatmap(df_cm, annot=True, annot_kws={\"size\": 30}, fmt='d',cmap=\"Blues\", ax = ax )\n",
        "ax.set_title('Confusion Matrix')\n",
        "plt.show()"
      ],
      "metadata": {
        "colab": {
          "base_uri": "https://localhost:8080/",
          "height": 452
        },
        "id": "FbKlg9_U80cM",
        "outputId": "be2bfb1c-d764-4697-fb82-29f61bfcba37"
      },
      "execution_count": null,
      "outputs": [
        {
          "output_type": "display_data",
          "data": {
            "text/plain": [
              "<Figure size 640x480 with 2 Axes>"
            ],
            "image/png": "[encoded data removed]"
          },
          "metadata": {}
        }
      ]
    },
    {
      "cell_type": "markdown",
      "source": [
        "## Logistic Regression ScikitLearn"
      ],
      "metadata": {
        "id": "hBgzmLgr9CNN"
      }
    },
    {
      "cell_type": "code",
      "source": [
        "#Normalizing data\n",
        "scaler= Normalizer().fit(X) # the scaler is fitted to the  dataset\n",
        "X= scaler.transform(X) # the scaler is applied to the dataset"
      ],
      "metadata": {
        "id": "jrV4_g2M9T0T"
      },
      "execution_count": null,
      "outputs": []
    },
    {
      "cell_type": "code",
      "source": [
        "print(y[:5])\n",
        "y = y.ravel()\n",
        "print(y[:5])"
      ],
      "metadata": {
        "colab": {
          "base_uri": "https://localhost:8080/"
        },
        "id": "pg_DY93v9pJR",
        "outputId": "56591484-6b71-46d8-9a4b-37e26b5ccf0b"
      },
      "execution_count": null,
      "outputs": [
        {
          "output_type": "stream",
          "name": "stdout",
          "text": [
            "[1 1 1 1 1]\n",
            "[1 1 1 1 1]\n"
          ]
        }
      ]
    },
    {
      "cell_type": "code",
      "source": [
        "#Make an instance of the model\n",
        "log = LogisticRegression()\n",
        "#Training the model\n",
        "log.fit(X, y)"
      ],
      "metadata": {
        "colab": {
          "base_uri": "https://localhost:8080/",
          "height": 75
        },
        "id": "axkjTRez9vne",
        "outputId": "a5ce3d9d-75d6-4459-cb67-9eb53e8c4dd1"
      },
      "execution_count": null,
      "outputs": [
        {
          "output_type": "execute_result",
          "data": {
            "text/plain": [
              "LogisticRegression()"
            ],
            "text/html": [
              "<style>#sk-container-id-5 {color: black;background-color: white;}#sk-container-id-5 pre{padding: 0;}#sk-container-id-5 div.sk-toggleable {background-color: white;}#sk-container-id-5 label.sk-toggleable__label {cursor: pointer;display: block;width: 100%;margin-bottom: 0;padding: 0.3em;box-sizing: border-box;text-align: center;}#sk-container-id-5 label.sk-toggleable__label-arrow:before {content: \"▸\";float: left;margin-right: 0.25em;color: #696969;}#sk-container-id-5 label.sk-toggleable__label-arrow:hover:before {color: black;}#sk-container-id-5 div.sk-estimator:hover label.sk-toggleable__label-arrow:before {color: black;}#sk-container-id-5 div.sk-toggleable__content {max-height: 0;max-width: 0;overflow: hidden;text-align: left;background-color: #f0f8ff;}#sk-container-id-5 div.sk-toggleable__content pre {margin: 0.2em;color: black;border-radius: 0.25em;background-color: #f0f8ff;}#sk-container-id-5 input.sk-toggleable__control:checked~div.sk-toggleable__content {max-height: 200px;max-width: 100%;overflow: auto;}#sk-container-id-5 input.sk-toggleable__control:checked~label.sk-toggleable__label-arrow:before {content: \"▾\";}#sk-container-id-5 div.sk-estimator input.sk-toggleable__control:checked~label.sk-toggleable__label {background-color: #d4ebff;}#sk-container-id-5 div.sk-label input.sk-toggleable__control:checked~label.sk-toggleable__label {background-color: #d4ebff;}#sk-container-id-5 input.sk-hidden--visually {border: 0;clip: rect(1px 1px 1px 1px);clip: rect(1px, 1px, 1px, 1px);height: 1px;margin: -1px;overflow: hidden;padding: 0;position: absolute;width: 1px;}#sk-container-id-5 div.sk-estimator {font-family: monospace;background-color: #f0f8ff;border: 1px dotted black;border-radius: 0.25em;box-sizing: border-box;margin-bottom: 0.5em;}#sk-container-id-5 div.sk-estimator:hover {background-color: #d4ebff;}#sk-container-id-5 div.sk-parallel-item::after {content: \"\";width: 100%;border-bottom: 1px solid gray;flex-grow: 1;}#sk-container-id-5 div.sk-label:hover label.sk-toggleable__label {background-color: #d4ebff;}#sk-container-id-5 div.sk-serial::before {content: \"\";position: absolute;border-left: 1px solid gray;box-sizing: border-box;top: 0;bottom: 0;left: 50%;z-index: 0;}#sk-container-id-5 div.sk-serial {display: flex;flex-direction: column;align-items: center;background-color: white;padding-right: 0.2em;padding-left: 0.2em;position: relative;}#sk-container-id-5 div.sk-item {position: relative;z-index: 1;}#sk-container-id-5 div.sk-parallel {display: flex;align-items: stretch;justify-content: center;background-color: white;position: relative;}#sk-container-id-5 div.sk-item::before, #sk-container-id-5 div.sk-parallel-item::before {content: \"\";position: absolute;border-left: 1px solid gray;box-sizing: border-box;top: 0;bottom: 0;left: 50%;z-index: -1;}#sk-container-id-5 div.sk-parallel-item {display: flex;flex-direction: column;z-index: 1;position: relative;background-color: white;}#sk-container-id-5 div.sk-parallel-item:first-child::after {align-self: flex-end;width: 50%;}#sk-container-id-5 div.sk-parallel-item:last-child::after {align-self: flex-start;width: 50%;}#sk-container-id-5 div.sk-parallel-item:only-child::after {width: 0;}#sk-container-id-5 div.sk-dashed-wrapped {border: 1px dashed gray;margin: 0 0.4em 0.5em 0.4em;box-sizing: border-box;padding-bottom: 0.4em;background-color: white;}#sk-container-id-5 div.sk-label label {font-family: monospace;font-weight: bold;display: inline-block;line-height: 1.2em;}#sk-container-id-5 div.sk-label-container {text-align: center;}#sk-container-id-5 div.sk-container {/* jupyter's `normalize.less` sets `[hidden] { display: none; }` but bootstrap.min.css set `[hidden] { display: none !important; }` so we also need the `!important` here to be able to override the default hidden behavior on the sphinx rendered scikit-learn.org. See: https://github.com/scikit-learn/scikit-learn/issues/21755 */display: inline-block !important;position: relative;}#sk-container-id-5 div.sk-text-repr-fallback {display: none;}</style><div id=\"sk-container-id-5\" class=\"sk-top-container\"><div class=\"sk-text-repr-fallback\"><pre>LogisticRegression()</pre><b>In a Jupyter environment, please rerun this cell to show the HTML representation or trust the notebook. <br />On GitHub, the HTML representation is unable to render, please try loading this page with nbviewer.org.</b></div><div class=\"sk-container\" hidden><div class=\"sk-item\"><div class=\"sk-estimator sk-toggleable\"><input class=\"sk-toggleable__control sk-hidden--visually\" id=\"sk-estimator-id-5\" type=\"checkbox\" checked><label for=\"sk-estimator-id-5\" class=\"sk-toggleable__label sk-toggleable__label-arrow\">LogisticRegression</label><div class=\"sk-toggleable__content\"><pre>LogisticRegression()</pre></div></div></div></div></div>"
            ]
          },
          "metadata": {},
          "execution_count": 243
        }
      ]
    },
    {
      "cell_type": "code",
      "source": [
        "y_pred1 = log.predict(X)"
      ],
      "metadata": {
        "id": "NuOLgGtC9y3m"
      },
      "execution_count": null,
      "outputs": []
    },
    {
      "cell_type": "code",
      "source": [
        "y_pred1"
      ],
      "metadata": {
        "colab": {
          "base_uri": "https://localhost:8080/"
        },
        "id": "8pCeHD1_91gV",
        "outputId": "5ca116a7-48b9-4ba2-a5ea-d494b3767efc"
      },
      "execution_count": null,
      "outputs": [
        {
          "output_type": "execute_result",
          "data": {
            "text/plain": [
              "array([1, 1, 1, 1, 1, 0, 1, 1, 1, 1, 1, 1, 1, 1, 1, 1, 0, 1, 1, 1, 0, 1,\n",
              "       0, 1, 1, 1, 1, 1, 1, 1, 1, 1, 1, 0, 0, 1, 1, 1, 1, 1, 0, 1, 1, 1,\n",
              "       1, 1, 1, 1, 1, 1, 0, 0, 0, 0, 0, 0, 0, 0, 0, 0, 0, 0, 0, 0, 0, 0,\n",
              "       0, 0, 0, 0, 0, 0, 0, 0, 0, 0, 1, 0, 0, 0, 0, 0, 0, 0, 0, 0, 0, 0,\n",
              "       0, 0, 0, 1, 0, 0, 0, 1, 0, 0, 0, 0])"
            ]
          },
          "metadata": {},
          "execution_count": 245
        }
      ]
    },
    {
      "cell_type": "code",
      "source": [
        "# the estimated coefficients and bias term\n",
        "print(log.coef_, log.intercept_)"
      ],
      "metadata": {
        "colab": {
          "base_uri": "https://localhost:8080/"
        },
        "id": "siy6TRzq-MoJ",
        "outputId": "5ced0358-c18d-4a2e-da4e-e7fbb50acca1"
      },
      "execution_count": null,
      "outputs": [
        {
          "output_type": "stream",
          "name": "stdout",
          "text": [
            "[[ 1.1312673  -1.46504078]] [0.00638287]\n"
          ]
        }
      ]
    },
    {
      "cell_type": "code",
      "source": [
        "# Use score method to get accuracy of model\n",
        "s = log.score(X, y)\n",
        "s"
      ],
      "metadata": {
        "colab": {
          "base_uri": "https://localhost:8080/"
        },
        "id": "tWagj2mh-Q34",
        "outputId": "614e5e52-19f0-4f06-9f8d-643f86aa2587"
      },
      "execution_count": null,
      "outputs": [
        {
          "output_type": "execute_result",
          "data": {
            "text/plain": [
              "0.9"
            ]
          },
          "metadata": {},
          "execution_count": 247
        }
      ]
    },
    {
      "cell_type": "code",
      "source": [
        "#visualising the performance of the classification model\n",
        "cm = confusion_matrix(y, y_pred)\n",
        "ax = plt.axes()\n",
        "df_cm = cm\n",
        "sns.heatmap(df_cm, annot=True, annot_kws={\"size\": 30}, fmt='d',cmap=\"Blues\", ax = ax )\n",
        "ax.set_title('Confusion Matrix')\n",
        "plt.show()"
      ],
      "metadata": {
        "colab": {
          "base_uri": "https://localhost:8080/",
          "height": 452
        },
        "id": "1TESvUYB_R_K",
        "outputId": "43920a64-5d43-4f08-be39-fe3a6ee4b302"
      },
      "execution_count": null,
      "outputs": [
        {
          "output_type": "display_data",
          "data": {
            "text/plain": [
              "<Figure size 640x480 with 2 Axes>"
            ],
            "image/png": "[encoded data removed]"
          },
          "metadata": {}
        }
      ]
    }
  ]
}